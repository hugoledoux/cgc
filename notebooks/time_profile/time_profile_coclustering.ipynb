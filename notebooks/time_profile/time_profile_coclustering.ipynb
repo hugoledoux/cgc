{
 "cells": [
  {
   "cell_type": "markdown",
   "id": "6fce43b8-ada1-4570-82db-b561eda059d1",
   "metadata": {},
   "source": [
    "# Time profile co-clustering"
   ]
  },
  {
   "cell_type": "markdown",
   "id": "d3119106-bb76-4699-a360-85726d80b0ac",
   "metadata": {},
   "source": [
    "The current notebook has been run on a MacBook Pro with 2.3 GHz Quad-Core Intel Core i5 processor and 16 GB RAM. "
   ]
  },
  {
   "cell_type": "code",
   "execution_count": 1,
   "id": "4822ae95-4e01-4d30-b566-ddd222c11c9e",
   "metadata": {},
   "outputs": [],
   "source": [
    "import cgc\n",
    "import dask.array as da\n",
    "import numpy as np\n",
    "import os\n",
    "import time\n",
    "\n",
    "from dask.distributed import Client, LocalCluster\n",
    "\n",
    "from cgc.coclustering import Coclustering"
   ]
  },
  {
   "cell_type": "code",
   "execution_count": 2,
   "id": "e4c88085-1fbb-4624-9ec3-ad1b5d0bece5",
   "metadata": {},
   "outputs": [
    {
     "name": "stdout",
     "output_type": "stream",
     "text": [
      "0.6.1\n"
     ]
    }
   ],
   "source": [
    "print(cgc.__version__)"
   ]
  },
  {
   "cell_type": "code",
   "execution_count": 3,
   "id": "e2d6f7f8-862b-4d67-bcba-fec45865ac1d",
   "metadata": {},
   "outputs": [],
   "source": [
    "# disable numpy threading\n",
    "os.environ[\"OMP_NUM_THREADS\"] = \"1\"  \n",
    "os.environ[\"OPENBLAS_NUM_THREADS\"] = \"1\"  \n",
    "os.environ[\"MKL_NUM_THREADS\"] = \"1\" "
   ]
  },
  {
   "cell_type": "code",
   "execution_count": 4,
   "id": "9bebae50-b53f-41b1-a3c5-0926fb102cb0",
   "metadata": {},
   "outputs": [],
   "source": [
    "def time_function(f, *args, **kwargs):\n",
    "    \"\"\"Execute function f and return timing.\"\"\"\n",
    "    start = time.time()\n",
    "    _ = f(*args, **kwargs)\n",
    "    return time.time() - start"
   ]
  },
  {
   "cell_type": "code",
   "execution_count": 5,
   "id": "f9672b89-1d51-4411-b349-69e93a5e8395",
   "metadata": {
    "tags": []
   },
   "outputs": [],
   "source": [
    "# start local Dask cluster\n",
    "cluster = LocalCluster(processes=False, n_workers=4, threads_per_worker=1, memory_limit=False)\n",
    "client = Client(cluster)"
   ]
  },
  {
   "cell_type": "code",
   "execution_count": 6,
   "id": "5a4897a7-fe89-426b-8e84-5ed121203fcb",
   "metadata": {},
   "outputs": [
    {
     "name": "stderr",
     "output_type": "stream",
     "text": [
      "OMP: Info #271: omp_set_nested routine deprecated, please use omp_set_max_active_levels instead.\n"
     ]
    }
   ],
   "source": [
    "# one call to low-memory algorithm to Numba JIT compile\n",
    "_ = Coclustering(np.random.random((5,5)), 2, 2).run_with_threads(nthreads=1, low_memory=True)"
   ]
  },
  {
   "cell_type": "markdown",
   "id": "896f3ac1-1172-48d2-9aa4-bebabfb4c62b",
   "metadata": {},
   "source": [
    "## Time vs number of rows"
   ]
  },
  {
   "cell_type": "code",
   "execution_count": 7,
   "id": "cedfd654-1c17-4195-b8a1-e5522af04975",
   "metadata": {},
   "outputs": [],
   "source": [
    "# calculation parameters\n",
    "ms = [300, 3_000, 30_000, 300_000, 3_000_000]  # num rows\n",
    "n = 300  # num columns\n",
    "k = 5  # num row clusters\n",
    "l = 5  # num col clusters"
   ]
  },
  {
   "cell_type": "code",
   "execution_count": 8,
   "id": "6b01e5ab-23ba-4ce6-a930-38f15de5c1d3",
   "metadata": {},
   "outputs": [],
   "source": [
    "time_vs_rows = {key: np.zeros(len(ms)) for key in (\"numpy\", \"numpy-low-mem\", \"dask\")}"
   ]
  },
  {
   "cell_type": "code",
   "execution_count": 9,
   "id": "3a8c406d-b0aa-43f2-bf0b-285c84f9df12",
   "metadata": {},
   "outputs": [],
   "source": [
    "# Numpy-based implementation\n",
    "for i, mi in enumerate(ms):\n",
    "    cc = Coclustering(np.random.random((mi, n)), k,  l)\n",
    "    time_vs_rows[\"numpy\"][i] = time_function(\n",
    "        cc.run_with_threads, nthreads=1\n",
    "    )\n",
    "    del cc"
   ]
  },
  {
   "cell_type": "code",
   "execution_count": 10,
   "id": "a2c90527-2709-4efe-98c6-95192aaa80f1",
   "metadata": {},
   "outputs": [],
   "source": [
    "# Numpy-based implementation, low-memory algorithm\n",
    "for i, mi in enumerate(ms):\n",
    "    cc = Coclustering(np.random.random((mi, n)), k,  l)\n",
    "    time_vs_rows[\"numpy-low-mem\"][i] = time_function(\n",
    "        cc.run_with_threads, nthreads=1, low_memory=True\n",
    "    )\n",
    "    del cc"
   ]
  },
  {
   "cell_type": "code",
   "execution_count": 11,
   "id": "1f53f234-76dc-471e-9c8d-b3db6eb53d4d",
   "metadata": {},
   "outputs": [],
   "source": [
    "# Dask-based implementation\n",
    "for i, mi in enumerate(ms):\n",
    "    Z = da.random.random((mi, n), chunks=(50000, 300))\n",
    "    cc = Coclustering(Z, k,  l)\n",
    "    time_vs_rows[\"dask\"][i] = time_function(\n",
    "        cc.run_with_dask, client=client\n",
    "    )\n",
    "    del Z, cc"
   ]
  },
  {
   "cell_type": "markdown",
   "id": "0076cf2f-3927-4c97-a4a0-1b37e831afc4",
   "metadata": {},
   "source": [
    "## Time vs number of row clusters"
   ]
  },
  {
   "cell_type": "code",
   "execution_count": 12,
   "id": "e415916b-5db1-4e3f-9076-2533ae57a133",
   "metadata": {},
   "outputs": [],
   "source": [
    "# calculation parameters\n",
    "m = 300_000  # num rows\n",
    "n = 300  # num columns\n",
    "ks = [5, 10, 50, 100, 500]  # num row clusters\n",
    "l = 5  # num col clusters"
   ]
  },
  {
   "cell_type": "code",
   "execution_count": 13,
   "id": "534ebf43-0733-497a-8c13-d0cfadab9c7c",
   "metadata": {},
   "outputs": [],
   "source": [
    "time_vs_rowcls = {key: np.zeros(len(ks)) for key in (\"numpy\", \"numpy-low-mem\", \"dask\")}"
   ]
  },
  {
   "cell_type": "code",
   "execution_count": 14,
   "id": "58febf27-0561-476b-ad0d-428a7de926a0",
   "metadata": {},
   "outputs": [],
   "source": [
    "# Numpy-based implementation\n",
    "for i, ki in enumerate(ks):\n",
    "    cc = Coclustering(np.random.random((m, n)), ki,  l)\n",
    "    time_vs_rowcls[\"numpy\"][i] = time_function(\n",
    "        cc.run_with_threads, nthreads=1\n",
    "    )\n",
    "    del cc"
   ]
  },
  {
   "cell_type": "code",
   "execution_count": 15,
   "id": "c24eb95b-db88-4759-8f7e-ea913a687e21",
   "metadata": {},
   "outputs": [],
   "source": [
    "# Numpy-based implementation, low-memory algorithm\n",
    "for i, ki in enumerate(ks):\n",
    "    cc = Coclustering(np.random.random((m, n)), ki,  l)\n",
    "    time_vs_rowcls[\"numpy-low-mem\"][i] = time_function(\n",
    "        cc.run_with_threads, nthreads=1, low_memory=True\n",
    "    )\n",
    "    del cc"
   ]
  },
  {
   "cell_type": "code",
   "execution_count": 16,
   "id": "4bfab89c-1ad7-482b-bd08-b61e71bd1535",
   "metadata": {},
   "outputs": [],
   "source": [
    "# Dask-based implementation\n",
    "for i, ki in enumerate(ks):\n",
    "    Z = da.random.random((m, n), chunks=(50000, 300))\n",
    "    cc = Coclustering(Z, ki,  l)\n",
    "    time_vs_rowcls[\"dask\"][i] = time_function(\n",
    "        cc.run_with_dask, client=client\n",
    "    )\n",
    "    del Z, cc"
   ]
  },
  {
   "cell_type": "markdown",
   "id": "dac9a071-ad26-4fa2-9164-119d83f84c27",
   "metadata": {},
   "source": [
    "## Plot"
   ]
  },
  {
   "cell_type": "code",
   "execution_count": 17,
   "id": "601326d5-f5c3-4829-b523-f8a55ce7a737",
   "metadata": {
    "tags": []
   },
   "outputs": [
    {
     "data": {
      "image/png": "[encoded data removed]",
      "text/plain": [
       "<Figure size 504x288 with 2 Axes>"
      ]
     },
     "metadata": {
      "needs_background": "light"
     },
     "output_type": "display_data"
    }
   ],
   "source": [
    "import matplotlib.pyplot as plt\n",
    "\n",
    "fig, ax = plt.subplots(1, 2, figsize=(7, 4))\n",
    "\n",
    "fig.suptitle(\"Co-clustering\")\n",
    "\n",
    "ax[0].plot(ms, time_vs_rows[\"numpy\"], marker=\"o\", label=\"Numpy\", color=\"b\")\n",
    "ax[0].plot(ms, time_vs_rows[\"numpy-low-mem\"], marker=\"o\", label=\"Numpy, low memory\", color=\"g\")\n",
    "ax[0].plot(ms, time_vs_rows[\"dask\"], marker=\"o\", label=\"Dask\", color=\"r\")\n",
    "ax[0].set_ylabel(\"Time for one iteration (s)\")\n",
    "ax[0].set_xlabel(\"Number of rows\")\n",
    "ax[0].set_yscale(\"log\")\n",
    "ax[0].set_xscale(\"log\")\n",
    "ax[0].set_title(f\"{n} cols., $({k}, {l})$ clusters\")\n",
    "ax[0].legend(frameon=False)\n",
    "\n",
    "ax[1].plot(ks, time_vs_rowcls[\"numpy\"], marker=\"o\", label=\"Numpy\", color=\"b\")\n",
    "ax[1].plot(ks, time_vs_rowcls[\"numpy-low-mem\"], marker=\"o\", label=\"Numpy, low memory\", color=\"g\")\n",
    "ax[1].plot(ks, time_vs_rowcls[\"dask\"], marker=\"o\", label=\"Dask\", color=\"r\")\n",
    "ax[1].set_xlabel(\"Number of row clusters\")\n",
    "ax[1].set_yscale(\"log\")\n",
    "ax[1].set_xscale(\"log\")\n",
    "ax[1].set_title(f\"$({m}, {n})$ matrix, {l} col. clusters\")\n",
    "\n",
    "plt.tight_layout()\n",
    "plt.savefig(\"time_profile_coclustering.png\", dpi=150)"
   ]
  }
 ],
 "metadata": {
  "kernelspec": {
   "display_name": "Python 3 (ipykernel)",
   "language": "python",
   "name": "python3"
  },
  "language_info": {
   "codemirror_mode": {
    "name": "ipython",
    "version": 3
   },
   "file_extension": ".py",
   "mimetype": "text/x-python",
   "name": "python",
   "nbconvert_exporter": "python",
   "pygments_lexer": "ipython3",
   "version": "3.7.10"
  }
 },
 "nbformat": 4,
 "nbformat_minor": 5
}
